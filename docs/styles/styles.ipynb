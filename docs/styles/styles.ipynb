{
 "cells": [
  {
   "cell_type": "markdown",
   "id": "consolidated-adoption",
   "metadata": {},
   "source": [
    "# Styles in **magpye**\n",
    "Here is the gallery of the predefined styles, more to come soon ... "
   ]
  },
  {
   "cell_type": "markdown",
   "id": "fitting-canada",
   "metadata": {},
   "source": [
    "##  Isolines "
   ]
  },
  {
   "cell_type": "markdown",
   "id": "absent-senate",
   "metadata": {},
   "source": [
    "### black_i4 : Black isolines with interval of 4\n"
   ]
  },
  {
   "cell_type": "code",
   "execution_count": null,
   "id": "italic-senegal",
   "metadata": {},
   "outputs": [],
   "source": [
    "from magpye import GeoMap\n",
    "\n",
    "fig = GeoMap(area_name=\"europe\")\n",
    "\n",
    "fig.coastlines(land_colour=\"cream\",resolution=\"medium\")\n",
    "fig.contour_lines(\"iso.grib\", style=\"black_i4\")\n",
    "fig.gridlines()\n",
    "\n",
    "fig.title([\"Style : black_i4\", \"Black isolines with interval of 4\" ])\n",
    "fig.legend()\n",
    "fig.footer(\"© European Centre for Medium-Range Weather Forecasts (ECMWF) Source: www.ecmwf.int Licence: CC-BY-4.0 and ECMWF Terms of Use (https://apps.ecmwf.int/datasets/licences/general/)\", logo='ecmwf')\n",
    "\n",
    "fig.show()\n"
   ]
  },
  {
   "cell_type": "markdown",
   "id": "sweet-poison",
   "metadata": {},
   "source": [
    "### black_i5_label : Black isolines with interval of 5 with label\n"
   ]
  },
  {
   "cell_type": "code",
   "execution_count": null,
   "id": "raised-antibody",
   "metadata": {},
   "outputs": [],
   "source": [
    "from magpye import GeoMap\n",
    "\n",
    "fig = GeoMap(area_name=\"europe\")\n",
    "\n",
    "fig.coastlines(land_colour=\"cream\",resolution=\"medium\")\n",
    "fig.contour_lines(\"iso.grib\", style=\"black_i5_label\")\n",
    "fig.gridlines()\n",
    "\n",
    "fig.title([\"Style : black_i5_label\", \"Black isolines with interval of 5 with label\" ])\n",
    "fig.legend()\n",
    "fig.footer(\"© European Centre for Medium-Range Weather Forecasts (ECMWF) Source: www.ecmwf.int Licence: CC-BY-4.0 and ECMWF Terms of Use (https://apps.ecmwf.int/datasets/licences/general/)\", logo='ecmwf')\n",
    "\n",
    "fig.show()\n"
   ]
  },
  {
   "cell_type": "markdown",
   "id": "impaired-panel",
   "metadata": {},
   "source": [
    "### black_i5_LH : Black isolines with interval of 5\n"
   ]
  },
  {
   "cell_type": "code",
   "execution_count": null,
   "id": "democratic-invite",
   "metadata": {},
   "outputs": [],
   "source": [
    "from magpye import GeoMap\n",
    "\n",
    "fig = GeoMap(area_name=\"europe\")\n",
    "\n",
    "fig.coastlines(land_colour=\"cream\",resolution=\"medium\")\n",
    "fig.contour_lines(\"iso.grib\", style=\"black_i5_LH\")\n",
    "fig.gridlines()\n",
    "\n",
    "fig.title([\"Style : black_i5_LH\", \"Black isolines with interval of 5\" ])\n",
    "fig.legend()\n",
    "fig.footer(\"© European Centre for Medium-Range Weather Forecasts (ECMWF) Source: www.ecmwf.int Licence: CC-BY-4.0 and ECMWF Terms of Use (https://apps.ecmwf.int/datasets/licences/general/)\", logo='ecmwf')\n",
    "\n",
    "fig.show()\n"
   ]
  },
  {
   "cell_type": "markdown",
   "id": "nuclear-privilege",
   "metadata": {},
   "source": [
    "### black_i5 : Black isolines with interval of 5\n"
   ]
  },
  {
   "cell_type": "code",
   "execution_count": null,
   "id": "lightweight-mixer",
   "metadata": {},
   "outputs": [],
   "source": [
    "from magpye import GeoMap\n",
    "\n",
    "fig = GeoMap(area_name=\"europe\")\n",
    "\n",
    "fig.coastlines(land_colour=\"cream\",resolution=\"medium\")\n",
    "fig.contour_lines(\"iso.grib\", style=\"black_i5\")\n",
    "fig.gridlines()\n",
    "\n",
    "fig.title([\"Style : black_i5\", \"Black isolines with interval of 5\" ])\n",
    "fig.legend()\n",
    "fig.footer(\"© European Centre for Medium-Range Weather Forecasts (ECMWF) Source: www.ecmwf.int Licence: CC-BY-4.0 and ECMWF Terms of Use (https://apps.ecmwf.int/datasets/licences/general/)\", logo='ecmwf')\n",
    "\n",
    "fig.show()\n"
   ]
  },
  {
   "cell_type": "markdown",
   "id": "hungarian-baker",
   "metadata": {},
   "source": [
    "### red_i5 : Red isolines with interval of 5\n"
   ]
  },
  {
   "cell_type": "code",
   "execution_count": null,
   "id": "synthetic-auction",
   "metadata": {},
   "outputs": [],
   "source": [
    "from magpye import GeoMap\n",
    "\n",
    "fig = GeoMap(area_name=\"europe\")\n",
    "\n",
    "fig.coastlines(land_colour=\"cream\",resolution=\"medium\")\n",
    "fig.contour_lines(\"iso.grib\", style=\"red_i5\")\n",
    "fig.gridlines()\n",
    "\n",
    "fig.title([\"Style : red_i5\", \"Red isolines with interval of 5\" ])\n",
    "fig.legend()\n",
    "fig.footer(\"© European Centre for Medium-Range Weather Forecasts (ECMWF) Source: www.ecmwf.int Licence: CC-BY-4.0 and ECMWF Terms of Use (https://apps.ecmwf.int/datasets/licences/general/)\", logo='ecmwf')\n",
    "\n",
    "fig.show()\n"
   ]
  }
 ],
 "metadata": {},
 "nbformat": 4,
 "nbformat_minor": 5
}
