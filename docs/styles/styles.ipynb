{
 "cells": [
  {
   "cell_type": "markdown",
   "id": "hired-interest",
   "metadata": {},
   "source": [
    "# Styles in **magpye**\n",
    "Here is the gallery of the predefined styles, more to come soon ... "
   ]
  },
  {
   "cell_type": "markdown",
   "id": "dried-gross",
   "metadata": {},
   "source": [
    "##  Isolines "
   ]
  },
  {
   "cell_type": "markdown",
   "id": "legislative-spider",
   "metadata": {},
   "source": [
    "### black_i4 \n",
    "Black isolines with interval of 4\n"
   ]
  },
  {
   "cell_type": "code",
   "execution_count": null,
   "id": "monetary-trustee",
   "metadata": {},
   "outputs": [],
   "source": [
    "from magpye import GeoMap\n",
    "\n",
    "fig = GeoMap(area_name=\"europe\")\n",
    "\n",
    "fig.coastlines(land_colour=\"cream\",resolution=\"medium\")\n",
    "fig.contour_lines(\"iso.grib\", style=\"black_i4\")\n",
    "fig.gridlines()\n",
    "\n",
    "fig.title([\"Style : black_i4\", \"Black isolines with interval of 4\" ])\n",
    "fig.legend()\n",
    "fig.footer(\"© European Centre for Medium-Range Weather Forecasts (ECMWF) Source: www.ecmwf.int Licence: CC-BY-4.0 and ECMWF Terms of Use (https://apps.ecmwf.int/datasets/licences/general/)\", logo='ecmwf')\n",
    "\n",
    "fig.show()\n"
   ]
  },
  {
   "cell_type": "markdown",
   "id": "tribal-blackberry",
   "metadata": {},
   "source": [
    "### black_i5_label \n",
    "Black isolines with interval of 5 with label\n"
   ]
  },
  {
   "cell_type": "code",
   "execution_count": null,
   "id": "formed-buddy",
   "metadata": {},
   "outputs": [],
   "source": [
    "from magpye import GeoMap\n",
    "\n",
    "fig = GeoMap(area_name=\"europe\")\n",
    "\n",
    "fig.coastlines(land_colour=\"cream\",resolution=\"medium\")\n",
    "fig.contour_lines(\"iso.grib\", style=\"black_i5_label\")\n",
    "fig.gridlines()\n",
    "\n",
    "fig.title([\"Style : black_i5_label\", \"Black isolines with interval of 5 with label\" ])\n",
    "fig.legend()\n",
    "fig.footer(\"© European Centre for Medium-Range Weather Forecasts (ECMWF) Source: www.ecmwf.int Licence: CC-BY-4.0 and ECMWF Terms of Use (https://apps.ecmwf.int/datasets/licences/general/)\", logo='ecmwf')\n",
    "\n",
    "fig.show()\n"
   ]
  },
  {
   "cell_type": "markdown",
   "id": "manufactured-sauce",
   "metadata": {},
   "source": [
    "### black_i5_LH \n",
    "Black isolines with interval of 5\n"
   ]
  },
  {
   "cell_type": "code",
   "execution_count": null,
   "id": "starting-centre",
   "metadata": {},
   "outputs": [],
   "source": [
    "from magpye import GeoMap\n",
    "\n",
    "fig = GeoMap(area_name=\"europe\")\n",
    "\n",
    "fig.coastlines(land_colour=\"cream\",resolution=\"medium\")\n",
    "fig.contour_lines(\"iso.grib\", style=\"black_i5_LH\")\n",
    "fig.gridlines()\n",
    "\n",
    "fig.title([\"Style : black_i5_LH\", \"Black isolines with interval of 5\" ])\n",
    "fig.legend()\n",
    "fig.footer(\"© European Centre for Medium-Range Weather Forecasts (ECMWF) Source: www.ecmwf.int Licence: CC-BY-4.0 and ECMWF Terms of Use (https://apps.ecmwf.int/datasets/licences/general/)\", logo='ecmwf')\n",
    "\n",
    "fig.show()\n"
   ]
  },
  {
   "cell_type": "markdown",
   "id": "coastal-litigation",
   "metadata": {},
   "source": [
    "### black_i5 \n",
    "Black isolines with interval of 5\n"
   ]
  },
  {
   "cell_type": "code",
   "execution_count": null,
   "id": "characteristic-mortality",
   "metadata": {},
   "outputs": [],
   "source": [
    "from magpye import GeoMap\n",
    "\n",
    "fig = GeoMap(area_name=\"europe\")\n",
    "\n",
    "fig.coastlines(land_colour=\"cream\",resolution=\"medium\")\n",
    "fig.contour_lines(\"iso.grib\", style=\"black_i5\")\n",
    "fig.gridlines()\n",
    "\n",
    "fig.title([\"Style : black_i5\", \"Black isolines with interval of 5\" ])\n",
    "fig.legend()\n",
    "fig.footer(\"© European Centre for Medium-Range Weather Forecasts (ECMWF) Source: www.ecmwf.int Licence: CC-BY-4.0 and ECMWF Terms of Use (https://apps.ecmwf.int/datasets/licences/general/)\", logo='ecmwf')\n",
    "\n",
    "fig.show()\n"
   ]
  },
  {
   "cell_type": "markdown",
   "id": "usual-australia",
   "metadata": {},
   "source": [
    "### red_i5 \n",
    "Red isolines with interval of 5\n"
   ]
  },
  {
   "cell_type": "code",
   "execution_count": null,
   "id": "bizarre-cigarette",
   "metadata": {},
   "outputs": [],
   "source": [
    "from magpye import GeoMap\n",
    "\n",
    "fig = GeoMap(area_name=\"europe\")\n",
    "\n",
    "fig.coastlines(land_colour=\"cream\",resolution=\"medium\")\n",
    "fig.contour_lines(\"iso.grib\", style=\"red_i5\")\n",
    "fig.gridlines()\n",
    "\n",
    "fig.title([\"Style : red_i5\", \"Red isolines with interval of 5\" ])\n",
    "fig.legend()\n",
    "fig.footer(\"© European Centre for Medium-Range Weather Forecasts (ECMWF) Source: www.ecmwf.int Licence: CC-BY-4.0 and ECMWF Terms of Use (https://apps.ecmwf.int/datasets/licences/general/)\", logo='ecmwf')\n",
    "\n",
    "fig.show()\n"
   ]
  },
  {
   "cell_type": "markdown",
   "id": "brown-maryland",
   "metadata": {},
   "source": [
    "##  Shading "
   ]
  },
  {
   "cell_type": "markdown",
   "id": "hidden-bubble",
   "metadata": {},
   "source": [
    "### blue_red_250 \n",
    "Method : contour shade, with contours Level list : (0.5/2/4/10/25/50/100/250) Colour : from blue to red Used for precipitation\n"
   ]
  },
  {
   "cell_type": "code",
   "execution_count": null,
   "id": "digital-mistake",
   "metadata": {},
   "outputs": [],
   "source": [
    "from magpye import GeoMap\n",
    "\n",
    "fig = GeoMap(area_name=\"europe\")\n",
    "\n",
    "fig.coastlines(land_colour=\"cream\",resolution=\"medium\")\n",
    "fig.contour_shaded(\"iso.grib\", style=\"blue_red_250\")\n",
    "fig.gridlines()\n",
    "\n",
    "fig.title([\"Style : blue_red_250\", \"Method : contour shade, with contours Level list : (0.5/2/4/10/25/50/100/250) Colour : from blue to red Used for precipitation\" ])\n",
    "fig.legend()\n",
    "fig.footer(\"© European Centre for Medium-Range Weather Forecasts (ECMWF) Source: www.ecmwf.int Licence: CC-BY-4.0 and ECMWF Terms of Use (https://apps.ecmwf.int/datasets/licences/general/)\", logo='ecmwf')\n",
    "\n",
    "fig.show()\n"
   ]
  }
 ],
 "metadata": {},
 "nbformat": 4,
 "nbformat_minor": 5
}
