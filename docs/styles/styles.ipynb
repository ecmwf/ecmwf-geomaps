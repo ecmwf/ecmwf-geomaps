{
 "cells": [
  {
   "cell_type": "markdown",
   "id": "active-transfer",
   "metadata": {},
   "source": [
    "# Styles in **magpye**\n",
    "Here is the gallery of the predefined styles, more to come soon ... "
   ]
  },
  {
   "cell_type": "markdown",
   "id": "unlimited-infection",
   "metadata": {},
   "source": [
    "##  Isolines "
   ]
  },
  {
   "cell_type": "markdown",
   "id": "utility-hudson",
   "metadata": {},
   "source": [
    "### black_i4 \n",
    "Black isolines with interval of 4\n"
   ]
  },
  {
   "cell_type": "code",
   "execution_count": null,
   "id": "revolutionary-fitting",
   "metadata": {},
   "outputs": [],
   "source": [
    "from magpye import GeoMap\n",
    "\n",
    "fig = GeoMap(area_name=\"europe\")\n",
    "\n",
    "fig.coastlines(land_colour=\"cream\",resolution=\"medium\")\n",
    "fig.contour_lines(\"iso.grib\", style=\"black_i4\")\n",
    "fig.gridlines()\n",
    "\n",
    "fig.title([\"Style : black_i4\", \"Black isolines with interval of 4\" ])\n",
    "fig.legend()\n",
    "fig.footer(\"© European Centre for Medium-Range Weather Forecasts (ECMWF) Source: www.ecmwf.int Licence: CC-BY-4.0 and ECMWF Terms of Use (https://apps.ecmwf.int/datasets/licences/general/)\", logo='ecmwf')\n",
    "\n",
    "fig.show()\n"
   ]
  },
  {
   "cell_type": "markdown",
   "id": "closing-dispute",
   "metadata": {},
   "source": [
    "### black_i5_label \n",
    "Black isolines with interval of 5 with label\n"
   ]
  },
  {
   "cell_type": "code",
   "execution_count": null,
   "id": "built-drink",
   "metadata": {},
   "outputs": [],
   "source": [
    "from magpye import GeoMap\n",
    "\n",
    "fig = GeoMap(area_name=\"europe\")\n",
    "\n",
    "fig.coastlines(land_colour=\"cream\",resolution=\"medium\")\n",
    "fig.contour_lines(\"iso.grib\", style=\"black_i5_label\")\n",
    "fig.gridlines()\n",
    "\n",
    "fig.title([\"Style : black_i5_label\", \"Black isolines with interval of 5 with label\" ])\n",
    "fig.legend()\n",
    "fig.footer(\"© European Centre for Medium-Range Weather Forecasts (ECMWF) Source: www.ecmwf.int Licence: CC-BY-4.0 and ECMWF Terms of Use (https://apps.ecmwf.int/datasets/licences/general/)\", logo='ecmwf')\n",
    "\n",
    "fig.show()\n"
   ]
  },
  {
   "cell_type": "markdown",
   "id": "streaming-emperor",
   "metadata": {},
   "source": [
    "### black_i5_LH \n",
    "Black isolines with interval of 5\n"
   ]
  },
  {
   "cell_type": "code",
   "execution_count": null,
   "id": "instructional-plant",
   "metadata": {},
   "outputs": [],
   "source": [
    "from magpye import GeoMap\n",
    "\n",
    "fig = GeoMap(area_name=\"europe\")\n",
    "\n",
    "fig.coastlines(land_colour=\"cream\",resolution=\"medium\")\n",
    "fig.contour_lines(\"iso.grib\", style=\"black_i5_LH\")\n",
    "fig.gridlines()\n",
    "\n",
    "fig.title([\"Style : black_i5_LH\", \"Black isolines with interval of 5\" ])\n",
    "fig.legend()\n",
    "fig.footer(\"© European Centre for Medium-Range Weather Forecasts (ECMWF) Source: www.ecmwf.int Licence: CC-BY-4.0 and ECMWF Terms of Use (https://apps.ecmwf.int/datasets/licences/general/)\", logo='ecmwf')\n",
    "\n",
    "fig.show()\n"
   ]
  },
  {
   "cell_type": "markdown",
   "id": "veterinary-penalty",
   "metadata": {},
   "source": [
    "### black_i5 \n",
    "Black isolines with interval of 5\n"
   ]
  },
  {
   "cell_type": "code",
   "execution_count": null,
   "id": "sixth-tribe",
   "metadata": {},
   "outputs": [],
   "source": [
    "from magpye import GeoMap\n",
    "\n",
    "fig = GeoMap(area_name=\"europe\")\n",
    "\n",
    "fig.coastlines(land_colour=\"cream\",resolution=\"medium\")\n",
    "fig.contour_lines(\"iso.grib\", style=\"black_i5\")\n",
    "fig.gridlines()\n",
    "\n",
    "fig.title([\"Style : black_i5\", \"Black isolines with interval of 5\" ])\n",
    "fig.legend()\n",
    "fig.footer(\"© European Centre for Medium-Range Weather Forecasts (ECMWF) Source: www.ecmwf.int Licence: CC-BY-4.0 and ECMWF Terms of Use (https://apps.ecmwf.int/datasets/licences/general/)\", logo='ecmwf')\n",
    "\n",
    "fig.show()\n"
   ]
  },
  {
   "cell_type": "markdown",
   "id": "interim-continuity",
   "metadata": {},
   "source": [
    "### red_i5 \n",
    "Red isolines with interval of 5\n"
   ]
  },
  {
   "cell_type": "code",
   "execution_count": null,
   "id": "simple-marshall",
   "metadata": {},
   "outputs": [],
   "source": [
    "from magpye import GeoMap\n",
    "\n",
    "fig = GeoMap(area_name=\"europe\")\n",
    "\n",
    "fig.coastlines(land_colour=\"cream\",resolution=\"medium\")\n",
    "fig.contour_lines(\"iso.grib\", style=\"red_i5\")\n",
    "fig.gridlines()\n",
    "\n",
    "fig.title([\"Style : red_i5\", \"Red isolines with interval of 5\" ])\n",
    "fig.legend()\n",
    "fig.footer(\"© European Centre for Medium-Range Weather Forecasts (ECMWF) Source: www.ecmwf.int Licence: CC-BY-4.0 and ECMWF Terms of Use (https://apps.ecmwf.int/datasets/licences/general/)\", logo='ecmwf')\n",
    "\n",
    "fig.show()\n"
   ]
  },
  {
   "cell_type": "markdown",
   "id": "gross-biology",
   "metadata": {},
   "source": [
    "##  Shading "
   ]
  },
  {
   "cell_type": "markdown",
   "id": "documentary-serum",
   "metadata": {},
   "source": [
    "### blue_red_250 \n",
    "Method : contour shade, with contours Level list : (0.5/2/4/10/25/50/100/250) Colour : from blue to red Used for precipitation\n"
   ]
  },
  {
   "cell_type": "code",
   "execution_count": null,
   "id": "complicated-adaptation",
   "metadata": {},
   "outputs": [],
   "source": [
    "from magpye import GeoMap\n",
    "\n",
    "fig = GeoMap(area_name=\"europe\")\n",
    "\n",
    "fig.coastlines(land_colour=\"cream\",resolution=\"medium\")\n",
    "fig.contour_lines(\"iso.grib\", style=\"blue_red_250\")\n",
    "fig.gridlines()\n",
    "\n",
    "fig.title([\"Style : blue_red_250\", \"Method : contour shade, with contours Level list : (0.5/2/4/10/25/50/100/250) Colour : from blue to red Used for precipitation\" ])\n",
    "fig.legend()\n",
    "fig.footer(\"© European Centre for Medium-Range Weather Forecasts (ECMWF) Source: www.ecmwf.int Licence: CC-BY-4.0 and ECMWF Terms of Use (https://apps.ecmwf.int/datasets/licences/general/)\", logo='ecmwf')\n",
    "\n",
    "fig.show()\n"
   ]
  }
 ],
 "metadata": {},
 "nbformat": 4,
 "nbformat_minor": 5
}
